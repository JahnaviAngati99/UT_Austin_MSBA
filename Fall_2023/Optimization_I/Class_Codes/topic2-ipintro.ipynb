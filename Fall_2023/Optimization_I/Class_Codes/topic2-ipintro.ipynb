{
 "cells": [
  {
   "cell_type": "code",
   "execution_count": 1,
   "id": "4b460135",
   "metadata": {},
   "outputs": [],
   "source": [
    "#!pip install gurobipy"
   ]
  },
  {
   "cell_type": "code",
   "execution_count": 2,
   "id": "7c0e3b6b",
   "metadata": {},
   "outputs": [],
   "source": [
    "import numpy as np\n",
    "import gurobipy as gp"
   ]
  },
  {
   "cell_type": "code",
   "execution_count": null,
   "id": "de8b47fd",
   "metadata": {},
   "outputs": [],
   "source": []
  },
  {
   "cell_type": "markdown",
   "id": "776a7ef7",
   "metadata": {},
   "source": [
    "# Example"
   ]
  },
  {
   "cell_type": "markdown",
   "id": "f42428ae",
   "metadata": {},
   "source": [
    "$ max \\ \\ 5 x_1 + 4x_2$\n",
    "\n",
    "subject to\n",
    "\n",
    "$ x_1 + x_2 \\leq 5$\n",
    "\n",
    "$ 10 x_1 + 6 x_2 \\leq 45 $\n",
    "\n",
    "$ x_1, x_2 \\geq 0 $\n",
    "\n",
    "$ x_1, x_2 $ are integers"
   ]
  },
  {
   "cell_type": "code",
   "execution_count": 3,
   "id": "baaaf499",
   "metadata": {},
   "outputs": [
    {
     "name": "stdout",
     "output_type": "stream",
     "text": [
      "Set parameter Username\n",
      "Academic license - for non-commercial use only - expires 2024-08-20\n",
      "Gurobi Optimizer version 10.0.2 build v10.0.2rc0 (mac64[arm])\n",
      "\n",
      "CPU model: Apple M2\n",
      "Thread count: 8 physical cores, 8 logical processors, using up to 8 threads\n",
      "\n",
      "Optimize a model with 2 rows, 2 columns and 4 nonzeros\n",
      "Model fingerprint: 0x5031e94e\n",
      "Coefficient statistics:\n",
      "  Matrix range     [1e+00, 1e+01]\n",
      "  Objective range  [4e+00, 5e+00]\n",
      "  Bounds range     [0e+00, 0e+00]\n",
      "  RHS range        [5e+00, 4e+01]\n",
      "Presolve time: 0.00s\n",
      "Presolved: 2 rows, 2 columns, 4 nonzeros\n",
      "\n",
      "Iteration    Objective       Primal Inf.    Dual Inf.      Time\n",
      "       0    9.0000000e+30   4.000000e+30   9.000000e+00      0s\n",
      "       2    2.3750000e+01   0.000000e+00   0.000000e+00      0s\n",
      "\n",
      "Solved in 2 iterations and 0.01 seconds (0.00 work units)\n",
      "Optimal objective  2.375000000e+01\n"
     ]
    }
   ],
   "source": [
    "lpMod = gp.Model()\n",
    "x = lpMod.addMVar(2)\n",
    "lpMod.setObjective(5*x[0] + 4*x[1],sense=gp.GRB.MAXIMIZE)\n",
    "con0 = lpMod.addConstr(x[0]+x[1] <= 5)\n",
    "con1 = lpMod.addConstr(10*x[0] + 6*x[1] <= 45)\n",
    "lpMod.optimize()"
   ]
  },
  {
   "cell_type": "code",
   "execution_count": 4,
   "id": "6b821f14",
   "metadata": {},
   "outputs": [
    {
     "data": {
      "text/plain": [
       "array([3.75, 1.25])"
      ]
     },
     "execution_count": 4,
     "metadata": {},
     "output_type": "execute_result"
    }
   ],
   "source": [
    "x.x"
   ]
  },
  {
   "cell_type": "code",
   "execution_count": 5,
   "id": "b615e307",
   "metadata": {},
   "outputs": [
    {
     "data": {
      "text/plain": [
       "23.75"
      ]
     },
     "execution_count": 5,
     "metadata": {},
     "output_type": "execute_result"
    }
   ],
   "source": [
    "lpMod.objVal"
   ]
  },
  {
   "cell_type": "code",
   "execution_count": null,
   "id": "169ac60a",
   "metadata": {},
   "outputs": [],
   "source": []
  },
  {
   "cell_type": "code",
   "execution_count": 26,
   "id": "cdff2812",
   "metadata": {},
   "outputs": [
    {
     "name": "stdout",
     "output_type": "stream",
     "text": [
      "Gurobi Optimizer version 10.0.2 build v10.0.2rc0 (mac64[arm])\n",
      "\n",
      "CPU model: Apple M2\n",
      "Thread count: 8 physical cores, 8 logical processors, using up to 8 threads\n",
      "\n",
      "Optimize a model with 2 rows, 2 columns and 4 nonzeros\n",
      "Model fingerprint: 0x5034a38e\n",
      "Variable types: 0 continuous, 2 integer (0 binary)\n",
      "Coefficient statistics:\n",
      "  Matrix range     [1e+00, 1e+01]\n",
      "  Objective range  [4e+00, 5e+00]\n",
      "  Bounds range     [0e+00, 0e+00]\n",
      "  RHS range        [5e+00, 4e+01]\n",
      "Found heuristic solution: objective 20.0000000\n",
      "Presolve time: 0.00s\n",
      "Presolved: 2 rows, 2 columns, 4 nonzeros\n",
      "Variable types: 0 continuous, 2 integer (0 binary)\n",
      "\n",
      "Root relaxation: objective 2.300000e+01, 0 iterations, 0.00 seconds (0.00 work units)\n",
      "\n",
      "    Nodes    |    Current Node    |     Objective Bounds      |     Work\n",
      " Expl Unexpl |  Obj  Depth IntInf | Incumbent    BestBd   Gap | It/Node Time\n",
      "\n",
      "*    0     0               0      23.0000000   23.00000  0.00%     -    0s\n",
      "\n",
      "Explored 1 nodes (0 simplex iterations) in 0.01 seconds (0.00 work units)\n",
      "Thread count was 8 (of 8 available processors)\n",
      "\n",
      "Solution count 2: 23 20 \n",
      "\n",
      "Optimal solution found (tolerance 1.00e-04)\n",
      "Best objective 2.300000000000e+01, best bound 2.300000000000e+01, gap 0.0000%\n"
     ]
    }
   ],
   "source": [
    "ipMod = gp.Model()\n",
    "x = ipMod.addMVar(2,vtype=['I','I']) # 'C' or 'I' or 'B'\n",
    "ipMod.setObjective(5*x[0] + 4*x[1],sense=gp.GRB.MAXIMIZE)\n",
    "c1 = ipMod.addConstr(x[0]+x[1] <= 5)\n",
    "con1 = ipMod.addConstr(10*x[0] + 6*x[1] <= 45)\n",
    "ipMod.optimize()"
   ]
  },
  {
   "cell_type": "code",
   "execution_count": 19,
   "id": "4ab9b227",
   "metadata": {},
   "outputs": [
    {
     "data": {
      "text/plain": [
       "array([3., 2.])"
      ]
     },
     "execution_count": 19,
     "metadata": {},
     "output_type": "execute_result"
    }
   ],
   "source": [
    "x.x"
   ]
  },
  {
   "cell_type": "code",
   "execution_count": 20,
   "id": "678674e7",
   "metadata": {},
   "outputs": [
    {
     "data": {
      "text/plain": [
       "23.0"
      ]
     },
     "execution_count": 20,
     "metadata": {},
     "output_type": "execute_result"
    }
   ],
   "source": [
    "ipMod.objVal"
   ]
  },
  {
   "cell_type": "code",
   "execution_count": 27,
   "id": "77681cb6",
   "metadata": {},
   "outputs": [
    {
     "ename": "GurobiError",
     "evalue": "Unable to retrieve attribute 'Pi'",
     "output_type": "error",
     "traceback": [
      "\u001b[0;31m---------------------------------------------------------------------------\u001b[0m",
      "\u001b[0;31mGurobiError\u001b[0m                               Traceback (most recent call last)",
      "Cell \u001b[0;32mIn[27], line 1\u001b[0m\n\u001b[0;32m----> 1\u001b[0m \u001b[43mc1\u001b[49m\u001b[38;5;241;43m.\u001b[39;49m\u001b[43mPi\u001b[49m\n",
      "File \u001b[0;32msrc/gurobipy/mconstr.pxi:52\u001b[0m, in \u001b[0;36mgurobipy.MConstr.__getattr__\u001b[0;34m()\u001b[0m\n",
      "File \u001b[0;32msrc/gurobipy/mconstr.pxi:154\u001b[0m, in \u001b[0;36mgurobipy.MConstr.getAttr\u001b[0;34m()\u001b[0m\n",
      "File \u001b[0;32msrc/gurobipy/attrutil.pxi:148\u001b[0m, in \u001b[0;36mgurobipy.__gettypedattrlist\u001b[0;34m()\u001b[0m\n",
      "\u001b[0;31mGurobiError\u001b[0m: Unable to retrieve attribute 'Pi'"
     ]
    }
   ],
   "source": [
    "c1.Pi"
   ]
  },
  {
   "cell_type": "code",
   "execution_count": null,
   "id": "4625cac6",
   "metadata": {},
   "outputs": [],
   "source": []
  }
 ],
 "metadata": {
  "kernelspec": {
   "display_name": "Python 3 (ipykernel)",
   "language": "python",
   "name": "python3"
  },
  "language_info": {
   "codemirror_mode": {
    "name": "ipython",
    "version": 3
   },
   "file_extension": ".py",
   "mimetype": "text/x-python",
   "name": "python",
   "nbconvert_exporter": "python",
   "pygments_lexer": "ipython3",
   "version": "3.10.9"
  }
 },
 "nbformat": 4,
 "nbformat_minor": 5
}
