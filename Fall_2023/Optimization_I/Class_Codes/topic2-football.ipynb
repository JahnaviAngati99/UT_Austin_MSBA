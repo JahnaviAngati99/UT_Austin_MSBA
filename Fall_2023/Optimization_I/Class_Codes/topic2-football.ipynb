{
 "cells": [
  {
   "cell_type": "code",
   "execution_count": null,
   "id": "2d74523e",
   "metadata": {},
   "outputs": [],
   "source": [
    "!pip install gurobipy"
   ]
  },
  {
   "cell_type": "code",
   "execution_count": null,
   "id": "b32c21c5",
   "metadata": {},
   "outputs": [],
   "source": [
    "import numpy as np\n",
    "import gurobipy as gp"
   ]
  },
  {
   "cell_type": "markdown",
   "id": "9cd975f7",
   "metadata": {},
   "source": [
    "# Football Problem"
   ]
  },
  {
   "cell_type": "code",
   "execution_count": null,
   "id": "c0406e4d",
   "metadata": {},
   "outputs": [],
   "source": [
    "mancosts = np.array([12.5,12.55,12.7,12.8,12.85,12.95])\n",
    "oncost = np.array([50000]*6)\n",
    "storagecosts = 0.05*mancosts\n",
    "demand = [10000,15000,30000,35000,25000,10000]\n"
   ]
  },
  {
   "cell_type": "code",
   "execution_count": null,
   "id": "9b99c4ae",
   "metadata": {},
   "outputs": [],
   "source": [
    "mod = gp.Model()\n",
    "manx = mod.addMVar(6)\n",
    "onx = mod.addMVar(6,vtype='B')\n",
    "storagex = mod.addMVar(6,ub=20000)\n",
    "\n"
   ]
  },
  {
   "cell_type": "code",
   "execution_count": null,
   "id": "63035ea8",
   "metadata": {},
   "outputs": [],
   "source": [
    "mod.setObjective(gp.quicksum(mancosts[i]*manx[i] + oncost[i]*onx[i] + storagecosts[i]*storagex[i] for i in range(6)))\n",
    "\n",
    "M = 10000+15000+30000+35000+25000+10000\n",
    "bigMcons = mod.addConstrs((manx[i] <= M*onx[i]) for i in range(6))\n",
    "\n"
   ]
  },
  {
   "cell_type": "code",
   "execution_count": null,
   "id": "b3565c9d",
   "metadata": {},
   "outputs": [],
   "source": [
    "# inventory vs manufacturing constraints\n",
    "# xi + I(i-1) = Di + Ii\n",
    "\n",
    "firstinvcon = mod.addConstr(manx[0]+5000 == demand[0]+storagex[0])\n",
    "restinvcons = mod.addConstrs((manx[i] + storagex[i-1] == demand[i] + storagex[i]) for i in range(1,6))\n",
    "\n"
   ]
  },
  {
   "cell_type": "code",
   "execution_count": null,
   "id": "59ad495f",
   "metadata": {},
   "outputs": [],
   "source": [
    "mod.Params.OutputFlag = 0\n",
    "mod.optimize()\n",
    "print(mod.ObjVal)\n",
    "print(manx.x)\n",
    "print(onx.x)\n",
    "print(storagex.x)"
   ]
  },
  {
   "cell_type": "code",
   "execution_count": null,
   "id": "3770dd35",
   "metadata": {},
   "outputs": [],
   "source": []
  },
  {
   "cell_type": "code",
   "execution_count": null,
   "id": "da76485e",
   "metadata": {},
   "outputs": [],
   "source": []
  },
  {
   "cell_type": "code",
   "execution_count": null,
   "id": "2d53a425",
   "metadata": {},
   "outputs": [],
   "source": []
  }
 ],
 "metadata": {
  "kernelspec": {
   "display_name": "Python 3 (ipykernel)",
   "language": "python",
   "name": "python3"
  },
  "language_info": {
   "codemirror_mode": {
    "name": "ipython",
    "version": 3
   },
   "file_extension": ".py",
   "mimetype": "text/x-python",
   "name": "python",
   "nbconvert_exporter": "python",
   "pygments_lexer": "ipython3",
   "version": "3.10.9"
  }
 },
 "nbformat": 4,
 "nbformat_minor": 5
}
