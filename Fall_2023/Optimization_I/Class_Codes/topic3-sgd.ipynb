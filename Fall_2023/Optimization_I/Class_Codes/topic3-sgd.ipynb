{
 "cells": [
  {
   "cell_type": "code",
   "execution_count": 1,
   "id": "a0563b02",
   "metadata": {},
   "outputs": [],
   "source": [
    "import numpy as np\n",
    "import pandas as pd\n",
    "from sklearn.linear_model import LinearRegression\n",
    "import seaborn as sns   # Why sns?  It's a reference to The West Wing\n",
    "import matplotlib.pyplot as plt  # seaborn is based on matplotlib\n",
    "sns.set(color_codes=True) # adds a nice background to the graphs\n",
    "%matplotlib inline "
   ]
  },
  {
   "cell_type": "code",
   "execution_count": 2,
   "id": "0774e40d",
   "metadata": {},
   "outputs": [
    {
     "name": "stdout",
     "output_type": "stream",
     "text": [
      "100\n"
     ]
    }
   ],
   "source": [
    "df = pd.read_csv('topic3_regression_data.csv')\n",
    "ndata = df.shape[0]\n",
    "x1 = df['x1']\n",
    "x2 = df['x2']\n",
    "y = df['y']\n",
    "print(ndata)"
   ]
  },
  {
   "cell_type": "code",
   "execution_count": 3,
   "id": "70b14d60",
   "metadata": {},
   "outputs": [
    {
     "name": "stdout",
     "output_type": "stream",
     "text": [
      "[ 1.15736763 -0.48388328  0.85474407]\n"
     ]
    }
   ],
   "source": [
    "reg = LinearRegression().fit(df[['x1','x2']], df['y'])\n",
    "beta_ols = np.append(reg.intercept_,reg.coef_)\n",
    "print(beta_ols)\n"
   ]
  },
  {
   "cell_type": "code",
   "execution_count": null,
   "id": "66350a44",
   "metadata": {},
   "outputs": [],
   "source": []
  },
  {
   "cell_type": "markdown",
   "id": "6729dbe2",
   "metadata": {},
   "source": [
    "# how to calculate the gradient\n",
    "\n",
    "\n",
    "$ obj = \\frac{1}{n} \\sum_{i=1}^n (\\hat{y}_i - y_i)^2 $\n",
    "\n",
    "$ \\frac{\\partial obj}{\\partial \\beta_0} = \\frac{1}{n} \\sum_{i=1}^n 2(\\hat{y}_i - y_i)$\n",
    "\n",
    "$ \\frac{\\partial obj}{\\partial \\beta_1} = \\frac{1}{n} \\sum_{i=1}^n 2(\\hat{y}_i - y_i)x_{1i}$\n",
    "\n",
    "$ \\frac{\\partial obj}{\\partial \\beta_2} = \\frac{1}{n} \\sum_{i=1}^n 2(\\hat{y}_i - y_i)x_{2i}$\n",
    "\n",
    "$ \\nabla obj = \\left( \\frac{\\partial obj}{\\partial \\beta_0}, \\frac{\\partial obj}{\\partial \\beta_1}, \\frac{\\partial obj}{\\partial \\beta_2}\\right) $"
   ]
  },
  {
   "cell_type": "code",
   "execution_count": 10,
   "id": "a51e6466",
   "metadata": {},
   "outputs": [],
   "source": [
    "# gradient descent parameters\n",
    "\n",
    "learnRate = 1e-3\n",
    "epochs = 20000"
   ]
  },
  {
   "cell_type": "markdown",
   "id": "f5a9b303",
   "metadata": {},
   "source": [
    "# gradient descent"
   ]
  },
  {
   "cell_type": "code",
   "execution_count": 11,
   "id": "8e8a5261",
   "metadata": {
    "scrolled": true
   },
   "outputs": [
    {
     "name": "stdout",
     "output_type": "stream",
     "text": [
      "0.3501062751636875\n",
      "[ 1.15736763 -0.48388328  0.85474407]\n",
      "[ 1.15736763 -0.48388328  0.85474407]\n"
     ]
    }
   ],
   "source": [
    "# regular gradient descent\n",
    "\n",
    "\n",
    "GDError = np.zeros(epochs)\n",
    "beta = np.zeros(3)\n",
    "for ep in range(epochs):\n",
    "    yhat = beta[0] + beta[1]*x1 + beta[2]*x2\n",
    "    \n",
    "    grad0 = np.mean(2.0*(yhat-y))\n",
    "    grad1 = 2.0*np.mean((yhat-y)*x1)\n",
    "    grad2 = 2.0*np.mean((yhat-y)*x2)\n",
    "    grad = np.array([grad0,grad1,grad2])\n",
    "    \n",
    "    beta -= learnRate*grad\n",
    "    \n",
    "    \n",
    "    GDError[ep] = np.mean((yhat-y)**2)\n",
    "    \n",
    "\n",
    "print(GDError[ep])\n",
    "print(beta)\n",
    "print(beta_ols)"
   ]
  },
  {
   "cell_type": "markdown",
   "id": "288eb593",
   "metadata": {},
   "source": [
    "By changing the number of epochs to 20000 we were able to get better estimates of betas. Changing the learning rate could also be a resolution to explore."
   ]
  },
  {
   "cell_type": "code",
   "execution_count": 6,
   "id": "1882c34f",
   "metadata": {},
   "outputs": [
    {
     "data": {
      "image/png": "[encoded data removed]",
      "text/plain": [
       "<Figure size 640x480 with 1 Axes>"
      ]
     },
     "metadata": {},
     "output_type": "display_data"
    }
   ],
   "source": [
    "dfGD = pd.DataFrame({'In-Sample Error': GDError})\n",
    "sns.lineplot(data=dfGD);"
   ]
  },
  {
   "cell_type": "code",
   "execution_count": null,
   "id": "7aa9cb16",
   "metadata": {},
   "outputs": [],
   "source": []
  },
  {
   "cell_type": "markdown",
   "id": "0f63eb65",
   "metadata": {},
   "source": [
    "# stochastic gradient descent"
   ]
  },
  {
   "cell_type": "code",
   "execution_count": 7,
   "id": "2faced3e",
   "metadata": {},
   "outputs": [],
   "source": [
    "batches = 10\n",
    "dat_per_bat = ndata//batches"
   ]
  },
  {
   "cell_type": "code",
   "execution_count": 8,
   "id": "1f07a52c",
   "metadata": {},
   "outputs": [
    {
     "name": "stdout",
     "output_type": "stream",
     "text": [
      "[ 1.14071932 -0.48510377  0.84335464]\n",
      "[ 1.15736763 -0.48388328  0.85474407]\n"
     ]
    }
   ],
   "source": [
    "epochs = 200\n",
    "# stochastic gradient descent\n",
    "SGDError = np.zeros(epochs)\n",
    "beta = np.zeros(3)\n",
    "for ep in range(epochs):\n",
    "    shuf = np.random.choice(range(ndata),size=ndata,replace=False)\n",
    "    for bat in range(batches):\n",
    "        this_bat = shuf[(bat*dat_per_bat):((bat+1)*dat_per_bat)]\n",
    "        yhat = beta[0] + beta[1]*x1[this_bat] + beta[2]*x2[this_bat]\n",
    "\n",
    "        grad0 = 2.0*np.mean(yhat-y[this_bat])\n",
    "        grad1 = 2.0*np.mean((yhat-y[this_bat])*x1[this_bat])\n",
    "        grad2 = 2.0*np.mean((yhat-y[this_bat])*x2[this_bat])\n",
    "        grad = np.array([grad0,grad1,grad2])\n",
    "        beta -= learnRate*grad\n",
    "\n",
    "    yhat = beta[0] + beta[1]*x1 + beta[2]*x2\n",
    "    SGDError[ep] = np.mean((yhat-y)**2)\n",
    "\n",
    "print(beta)\n",
    "print(beta_ols)"
   ]
  },
  {
   "cell_type": "code",
   "execution_count": null,
   "id": "90660270",
   "metadata": {},
   "outputs": [],
   "source": []
  },
  {
   "cell_type": "code",
   "execution_count": 9,
   "id": "22170e6b",
   "metadata": {},
   "outputs": [
    {
     "data": {
      "image/png": "[encoded data removed]",
      "text/plain": [
       "<Figure size 640x480 with 1 Axes>"
      ]
     },
     "metadata": {},
     "output_type": "display_data"
    }
   ],
   "source": [
    "dfSGD = pd.DataFrame({'In-Sample Error': SGDError})\n",
    "sns.lineplot(data=dfSGD);"
   ]
  },
  {
   "cell_type": "code",
   "execution_count": null,
   "id": "c9e972dc",
   "metadata": {},
   "outputs": [],
   "source": []
  }
 ],
 "metadata": {
  "kernelspec": {
   "display_name": "Python 3 (ipykernel)",
   "language": "python",
   "name": "python3"
  },
  "language_info": {
   "codemirror_mode": {
    "name": "ipython",
    "version": 3
   },
   "file_extension": ".py",
   "mimetype": "text/x-python",
   "name": "python",
   "nbconvert_exporter": "python",
   "pygments_lexer": "ipython3",
   "version": "3.10.9"
  }
 },
 "nbformat": 4,
 "nbformat_minor": 5
}
