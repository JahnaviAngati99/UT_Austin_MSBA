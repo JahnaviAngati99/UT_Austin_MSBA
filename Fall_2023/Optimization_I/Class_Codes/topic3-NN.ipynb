{
 "cells": [
  {
   "cell_type": "code",
   "execution_count": null,
   "id": "4ec8e924",
   "metadata": {},
   "outputs": [],
   "source": [
    "import numpy as np\n",
    "import pandas as pd\n",
    "import tensorflow as tf\n",
    "\n",
    "import seaborn as sns   # Why sns?  It's a reference to The West Wing\n",
    "import matplotlib.pyplot as plt  # seaborn is based on matplotlib\n",
    "sns.set(color_codes=True) # adds a nice background to the graphs\n",
    "%matplotlib inline "
   ]
  },
  {
   "cell_type": "markdown",
   "id": "25d42f75",
   "metadata": {},
   "source": [
    "# Spiral arm problem"
   ]
  },
  {
   "cell_type": "markdown",
   "id": "8e516c08",
   "metadata": {},
   "source": [
    "## import the data"
   ]
  },
  {
   "cell_type": "code",
   "execution_count": null,
   "id": "711b0064",
   "metadata": {},
   "outputs": [],
   "source": [
    "df = pd.read_csv('topic3-spiral.csv')"
   ]
  },
  {
   "cell_type": "code",
   "execution_count": null,
   "id": "efbc5549",
   "metadata": {},
   "outputs": [],
   "source": [
    "sns.scatterplot(data=df,x='x',y='y',hue='arm');"
   ]
  },
  {
   "cell_type": "code",
   "execution_count": null,
   "id": "9970f65d",
   "metadata": {},
   "outputs": [],
   "source": []
  },
  {
   "cell_type": "markdown",
   "id": "ec0525a3",
   "metadata": {},
   "source": [
    "## build tensorflow model"
   ]
  },
  {
   "cell_type": "code",
   "execution_count": null,
   "id": "b559d692",
   "metadata": {},
   "outputs": [],
   "source": [
    "NNmodel_adam = tf.keras.models.Sequential([\n",
    "    tf.keras.layers.Dense(8,activation='relu',input_shape=(2,)),\n",
    "    tf.keras.layers.Dense(8,activation='gelu'),\n",
    "    tf.keras.layers.Dense(4,activation='relu'),\n",
    "    tf.keras.layers.Dense(1,activation=tf.nn.sigmoid)])\n",
    "\n",
    "NNmodel_adam.compile(optimizer=tf.keras.optimizers.Adam(learning_rate=0.01),\n",
    "              loss='binary_crossentropy',\n",
    "              metrics=['accuracy'])\n",
    "\n"
   ]
  },
  {
   "cell_type": "code",
   "execution_count": null,
   "id": "0918ddfd",
   "metadata": {},
   "outputs": [],
   "source": [
    "xtrain = np.zeros((df.shape[0],2))\n",
    "xtrain[:,0] = df['x']\n",
    "xtrain[:,1] = df['y']\n",
    "ytrain = df['arm']"
   ]
  },
  {
   "cell_type": "code",
   "execution_count": null,
   "id": "b177f225",
   "metadata": {},
   "outputs": [],
   "source": [
    "NNmodel_adam.fit(xtrain,ytrain,epochs=100,batch_size=10,validation_split=0.2);"
   ]
  },
  {
   "cell_type": "code",
   "execution_count": null,
   "id": "de67041d",
   "metadata": {},
   "outputs": [],
   "source": []
  },
  {
   "cell_type": "code",
   "execution_count": null,
   "id": "3dad86f4",
   "metadata": {},
   "outputs": [],
   "source": []
  },
  {
   "cell_type": "code",
   "execution_count": null,
   "id": "b89008a4",
   "metadata": {},
   "outputs": [],
   "source": [
    "grid = np.linspace(-2,2,num=51)\n",
    "xg = np.zeros(51**2)\n",
    "yg = np.zeros(51**2)\n",
    "k=0\n",
    "for x in range(51):\n",
    "    for y in range(51):\n",
    "        xg[k]=grid[x]\n",
    "        yg[k]=grid[y]\n",
    "        k+=1\n",
    "\n",
    "xy = np.zeros((51**2,2))\n",
    "xy[:,0]=xg\n",
    "xy[:,1]=yg\n",
    "\n",
    "pred = (NNmodel_adam.predict(xy)> 0.5).astype(int)\n",
    "\n",
    "df_grid = pd.DataFrame({'x':xg,'y':yg,'arm_pred':pred.transpose()[0]})\n",
    "sns.scatterplot(data=df_grid,x='x',y='y',hue='arm_pred');"
   ]
  },
  {
   "cell_type": "code",
   "execution_count": null,
   "id": "2db61f48",
   "metadata": {},
   "outputs": [],
   "source": []
  },
  {
   "cell_type": "code",
   "execution_count": null,
   "id": "89ea6851",
   "metadata": {},
   "outputs": [],
   "source": []
  }
 ],
 "metadata": {
  "kernelspec": {
   "display_name": "Python 3 (ipykernel)",
   "language": "python",
   "name": "python3"
  },
  "language_info": {
   "codemirror_mode": {
    "name": "ipython",
    "version": 3
   },
   "file_extension": ".py",
   "mimetype": "text/x-python",
   "name": "python",
   "nbconvert_exporter": "python",
   "pygments_lexer": "ipython3",
   "version": "3.7.13"
  }
 },
 "nbformat": 4,
 "nbformat_minor": 5
}
