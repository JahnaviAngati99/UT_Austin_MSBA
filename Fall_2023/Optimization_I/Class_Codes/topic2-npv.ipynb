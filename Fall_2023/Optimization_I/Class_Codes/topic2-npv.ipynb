{
 "cells": [
  {
   "cell_type": "code",
   "execution_count": null,
   "id": "c7c56c99",
   "metadata": {},
   "outputs": [],
   "source": [
    "!pip install gurobipy"
   ]
  },
  {
   "cell_type": "code",
   "execution_count": null,
   "id": "2f382c08",
   "metadata": {},
   "outputs": [],
   "source": [
    "import numpy as np\n",
    "import gurobipy as gp"
   ]
  },
  {
   "cell_type": "code",
   "execution_count": null,
   "id": "43387b3c",
   "metadata": {},
   "outputs": [],
   "source": []
  },
  {
   "cell_type": "markdown",
   "id": "0704992f",
   "metadata": {},
   "source": [
    "# NPV Example"
   ]
  },
  {
   "cell_type": "code",
   "execution_count": null,
   "id": "7e73d55d",
   "metadata": {},
   "outputs": [],
   "source": []
  },
  {
   "cell_type": "code",
   "execution_count": null,
   "id": "49082bb1",
   "metadata": {},
   "outputs": [],
   "source": [
    "npv = [16000,8000,10000,19500,22000,12000,7500]\n",
    "cost = [5000,2500,3500,6000,7000,4500,3000]\n",
    "budget = 15000"
   ]
  },
  {
   "cell_type": "code",
   "execution_count": null,
   "id": "7c904d27",
   "metadata": {},
   "outputs": [],
   "source": [
    "npvMod = gp.Model()\n",
    "npvMod_x = npvMod.addMVar(len(npv),vtype='B') # 'C' or 'I' or 'B'\n",
    "npvMod_con = npvMod.addConstr(gp.quicksum(npvMod_x[i]*cost[i] for i in range(7)) <= budget)\n",
    "npvMod.setObjective(gp.quicksum(npvMod_x[i]*npv[i] for i in range(7)),sense=gp.GRB.MAXIMIZE)\n",
    "\n",
    "npvMod.Params.OutputFlag = 0 # tell gurobi to shut up!!\n",
    "npvMod.optimize()"
   ]
  },
  {
   "cell_type": "code",
   "execution_count": null,
   "id": "873abc37",
   "metadata": {},
   "outputs": [],
   "source": [
    "npvMod.objVal"
   ]
  },
  {
   "cell_type": "code",
   "execution_count": null,
   "id": "3b9451de",
   "metadata": {},
   "outputs": [],
   "source": [
    "npvMod_x.x"
   ]
  },
  {
   "cell_type": "code",
   "execution_count": null,
   "id": "bcb23b5e",
   "metadata": {},
   "outputs": [],
   "source": []
  }
 ],
 "metadata": {
  "kernelspec": {
   "display_name": "Python 3 (ipykernel)",
   "language": "python",
   "name": "python3"
  },
  "language_info": {
   "codemirror_mode": {
    "name": "ipython",
    "version": 3
   },
   "file_extension": ".py",
   "mimetype": "text/x-python",
   "name": "python",
   "nbconvert_exporter": "python",
   "pygments_lexer": "ipython3",
   "version": "3.10.9"
  }
 },
 "nbformat": 4,
 "nbformat_minor": 5
}
